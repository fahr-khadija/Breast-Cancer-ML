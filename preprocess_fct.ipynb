{
  "nbformat": 4,
  "nbformat_minor": 0,
  "metadata": {
    "colab": {
      "provenance": [],
      "authorship_tag": "ABX9TyNeYKDir6p6FttTB7umjKlT",
      "include_colab_link": true
    },
    "kernelspec": {
      "name": "python3",
      "display_name": "Python 3"
    },
    "language_info": {
      "name": "python"
    }
  },
  "cells": [
    {
      "cell_type": "markdown",
      "metadata": {
        "id": "view-in-github",
        "colab_type": "text"
      },
      "source": [
        "<a href=\"https://colab.research.google.com/github/fahr-khadija/Breast-Cancer-ML/blob/main/preprocess_fct.ipynb\" target=\"_parent\"><img src=\"https://colab.research.google.com/assets/colab-badge.svg\" alt=\"Open In Colab\"/></a>"
      ]
    },
    {
      "cell_type": "code",
      "execution_count": 2,
      "metadata": {
        "id": "Gn8xKvGV2Pk-"
      },
      "outputs": [],
      "source": [
        "import pandas as pd\n",
        "\n",
        "def preprocess_data(data):\n",
        "    expected_column_names = ['mean radius', 'mean texture', 'mean perimeter', 'mean area',\n",
        "                              'mean smoothness', 'mean compactness', 'mean concavity',\n",
        "                              'mean concave points', 'mean symmetry', 'mean fractal dimension',\n",
        "                              'radius error', 'texture error', 'perimeter error', 'area error',\n",
        "                              'smoothness error', 'compactness error', 'concavity error',\n",
        "                              'concave points error', 'symmetry error', 'fractal dimension error',\n",
        "                              'worst radius', 'worst texture', 'worst perimeter', 'worst area',\n",
        "                              'worst smoothness', 'worst compactness', 'worst concavity',\n",
        "                              'worst concave points', 'worst symmetry', 'worst fractal dimension',\n",
        "                              'target']\n",
        "\n",
        "    # Check for null values\n",
        "    null_values = data.isnull().sum()\n",
        "    print(\"Null Values:\\n\", null_values)\n",
        "\n",
        "    # Check column names\n",
        "    column_names = data.columns\n",
        "    print(\"\\nColumn Names:\\n\", column_names)\n",
        "\n",
        "    # Check column types\n",
        "    column_types = data.dtypes\n",
        "    print(\"\\nColumn Types:\\n\", column_types)\n",
        "\n",
        "    # Check the number of unique values in each column\n",
        "    for col in data.columns:\n",
        "        unique_values = data[col].nunique()\n",
        "        print(f\"\\nNumber of Unique Values in '{col}': {unique_values}\")\n",
        "\n",
        "    actual_column_names = data.columns.tolist()\n",
        "\n",
        "    # Check if the actual column names match the expected ones\n",
        "    if set(actual_column_names) == set(expected_column_names):\n",
        "        print(\"Column names match the expected ones.\")\n",
        "    else:\n",
        "        print(\"Column names do not match the expected ones.\")\n",
        "\n",
        "    # Return the preprocessed DataFrame\n",
        "    return data\n"
      ]
    }
  ]
}