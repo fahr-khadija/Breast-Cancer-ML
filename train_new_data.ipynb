{
  "nbformat": 4,
  "nbformat_minor": 0,
  "metadata": {
    "colab": {
      "provenance": [],
      "authorship_tag": "ABX9TyME1fZar2daPAIQmcjnj3Rf",
      "include_colab_link": true
    },
    "kernelspec": {
      "name": "python3",
      "display_name": "Python 3"
    },
    "language_info": {
      "name": "python"
    }
  },
  "cells": [
    {
      "cell_type": "markdown",
      "metadata": {
        "id": "view-in-github",
        "colab_type": "text"
      },
      "source": [
        "<a href=\"https://colab.research.google.com/github/fahr-khadija/Breast-Cancer-ML/blob/main/train_new_data.ipynb\" target=\"_parent\"><img src=\"https://colab.research.google.com/assets/colab-badge.svg\" alt=\"Open In Colab\"/></a>"
      ]
    },
    {
      "cell_type": "code",
      "execution_count": null,
      "metadata": {
        "id": "2Cgkzzbymluo"
      },
      "outputs": [],
      "source": [
        "# Importing Libraries\n",
        "import pandas as pd\n",
        "import numpy as np\n",
        "import seaborn as sns\n",
        "import sklearn as sk\n",
        "import matplotlib.pyplot as plt\n",
        "from subprocess import check_output\n",
        "from sklearn.preprocessing import OneHotEncoder,LabelEncoder\n",
        "from sklearn.metrics import mean_absolute_error\n",
        "from google.colab import files\n",
        "\n",
        "# Needed to show plots inline for notebooks\n",
        "%matplotlib inline\n"
      ]
    },
    {
      "cell_type": "code",
      "source": [
        "# import our best model\n",
        "from tensorflow.keras.models import Sequential, save_model, load_model\n",
        "# Load the model\n",
        "model = load_model ('/content/Model_1.h5', compile = True)\n"
      ],
      "metadata": {
        "id": "iO3X0DIym7fj"
      },
      "execution_count": null,
      "outputs": []
    },
    {
      "cell_type": "code",
      "source": [
        "# upload new dataset\n",
        "data=files.upload()"
      ],
      "metadata": {
        "id": "kD0FFULCnFPk"
      },
      "execution_count": null,
      "outputs": []
    },
    {
      "cell_type": "code",
      "source": [
        "# Read the CSV file from the Resources folder into a Pandas DataFrame\n",
        "breast_cancer_pf = pd.read_csv('breast_cancer_data_train.csv')\n",
        "# Review the DataFrame\n",
        "breast_cancer_pf.head()"
      ],
      "metadata": {
        "id": "Zrl4t_ARnl0h"
      },
      "execution_count": null,
      "outputs": []
    },
    {
      "cell_type": "code",
      "source": [],
      "metadata": {
        "id": "XMEJHTjpnuiL"
      },
      "execution_count": null,
      "outputs": []
    }
  ]
}